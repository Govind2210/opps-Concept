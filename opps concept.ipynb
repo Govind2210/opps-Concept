{
 "cells": [
  {
   "cell_type": "code",
   "execution_count": 40,
   "id": "1a8bcc67",
   "metadata": {},
   "outputs": [],
   "source": [
    "class Atm:\n",
    "    def __inti__(self):\n",
    "        \n",
    "        self.pin =  \"\"\n",
    "        slef.balance = 0\n",
    "        \n",
    "        slef.menu()\n",
    "        \n",
    "    def menu(self):\n",
    "        \n",
    "        user_input = input(int((\"\"\" Would you like to proceed\n",
    "                        1. Enter 1 to create pin\n",
    "                        2. Enter 2 to Deposit the cash\n",
    "                        3. Enter 3 for Withdraw the cash\n",
    "                        4. Enter 4 Check Account banlance\n",
    "                        5. Enter 5 to Exit \n",
    "                        \"\"\")))\n",
    "        if user_input == 1 :\n",
    "            print(\"create pin\")\n",
    "        elif user_input == 2:\n",
    "            print(\"Deposit\")\n",
    "        elif user_input == 3:\n",
    "            print(\"Withdraw\")\n",
    "        elif user_input == 4 :\n",
    "            print(\"Balance\")\n",
    "        #else user_input == 5:\n",
    "            #print(\"BYE\")\n",
    "        \n",
    "        "
   ]
  },
  {
   "cell_type": "code",
   "execution_count": 41,
   "id": "960457fb",
   "metadata": {},
   "outputs": [],
   "source": [
    "class Fraction:\n",
    "    def __inti__(self,n,d):\n",
    "        self_num = n\n",
    "        self_den = d\n",
    "        \n",
    "    def __str__(self):\n",
    "        return \"{}/{}\".format(self.num , self.den)\n",
    "    \n",
    "    def __add__(self,other):\n",
    "        \n",
    "        temp_num = self.num * other_den + other.den * self.num\n",
    "        tem_den = self.den * other.den\n",
    "        \n",
    "        return \"{}/{}.format(temp_num,temp_den)\"\n",
    "    \n",
    "    def __sub__(self,other):\n",
    "        \n",
    "        temp_num = self.num * other.den - other.den * self.num\n",
    "        temp_den = self.den * other.den\n",
    "        \n",
    "    def __mul__(self,other):\n",
    "        temp_num = self.num * other.num\n",
    "        temp_den = self.num * other.den\n",
    "        \n",
    "        return \"{}/{}.format(temp_num,temp_den)\"\n",
    "    \n",
    "    def __truediv__(self,other):\n",
    "        temp_num = self.num * other.den\n",
    "        temp_den = self.den * self.num\n",
    "        \n",
    "        return \"{}/{}.format(temp_num,temp_den)\"\n",
    "        "
   ]
  },
  {
   "cell_type": "code",
   "execution_count": 42,
   "id": "53867fd5",
   "metadata": {},
   "outputs": [
    {
     "ename": "TypeError",
     "evalue": "Fraction() takes no arguments",
     "output_type": "error",
     "traceback": [
      "\u001b[1;31m---------------------------------------------------------------------------\u001b[0m",
      "\u001b[1;31mTypeError\u001b[0m                                 Traceback (most recent call last)",
      "\u001b[1;32m<ipython-input-42-b8ebd19feab4>\u001b[0m in \u001b[0;36m<module>\u001b[1;34m\u001b[0m\n\u001b[1;32m----> 1\u001b[1;33m \u001b[0mx\u001b[0m \u001b[1;33m=\u001b[0m \u001b[0mFraction\u001b[0m\u001b[1;33m(\u001b[0m\u001b[1;36m3\u001b[0m\u001b[1;33m,\u001b[0m\u001b[1;36m4\u001b[0m\u001b[1;33m)\u001b[0m\u001b[1;33m\u001b[0m\u001b[1;33m\u001b[0m\u001b[0m\n\u001b[0m\u001b[0;32m      2\u001b[0m \u001b[0my\u001b[0m \u001b[1;33m=\u001b[0m\u001b[0mFraction\u001b[0m\u001b[1;33m(\u001b[0m\u001b[1;36m7\u001b[0m\u001b[1;33m,\u001b[0m\u001b[1;36m8\u001b[0m\u001b[1;33m)\u001b[0m\u001b[1;33m\u001b[0m\u001b[1;33m\u001b[0m\u001b[0m\n",
      "\u001b[1;31mTypeError\u001b[0m: Fraction() takes no arguments"
     ]
    }
   ],
   "source": [
    "x = Fraction(3,4)\n",
    "y =Fraction(7,8)"
   ]
  },
  {
   "cell_type": "markdown",
   "id": "f79c2a51",
   "metadata": {},
   "source": [
    "# Instance Variable"
   ]
  },
  {
   "cell_type": "markdown",
   "id": "7f74b811",
   "metadata": {},
   "source": [
    "any variable that come under constructor this is know as instance variable....it is kind of variable for which the value of variable different from different object..."
   ]
  },
  {
   "cell_type": "markdown",
   "id": "6f46a3a7",
   "metadata": {},
   "source": [
    "# Encapulation"
   ]
  },
  {
   "cell_type": "markdown",
   "id": "408a7f77",
   "metadata": {},
   "source": [
    "Encapsulation in Python is the process of wrapping up variables and methods into a single entity.In programming, a class is an example that wraps all the variables and methods defined inside it"
   ]
  },
  {
   "cell_type": "markdown",
   "id": "76a98fe3",
   "metadata": {},
   "source": [
    "# Refernce Variable"
   ]
  },
  {
   "cell_type": "code",
   "execution_count": 43,
   "id": "72414d1e",
   "metadata": {},
   "outputs": [
    {
     "name": "stdout",
     "output_type": "stream",
     "text": [
      "Gogo\n",
      "hello Gogo sir\n"
     ]
    }
   ],
   "source": [
    "#pass by refrence\n",
    "\n",
    "class Customer:\n",
    "    \n",
    "    def __init__(self,name,gender):\n",
    "        self.name = name\n",
    "        self.gender = gender\n",
    "\n",
    "def greet(customer):\n",
    "    if customer.gender == \"Male\":\n",
    "        print(\"hello\" , customer.name , \"sir\")\n",
    "    else:\n",
    "        print(\"hello\" , customer.name , \"madam\")\n",
    "        \n",
    "cust = Customer(\"Gogo\",\"Male\")\n",
    "print(cust.name)\n",
    "\n",
    "greet(cust)"
   ]
  },
  {
   "cell_type": "code",
   "execution_count": 44,
   "id": "1e58d3cb",
   "metadata": {},
   "outputs": [
    {
     "name": "stdout",
     "output_type": "stream",
     "text": [
      "aditi\n",
      "Hello aditi madam\n"
     ]
    },
    {
     "ename": "TypeError",
     "evalue": "'Customer' object is not callable",
     "output_type": "error",
     "traceback": [
      "\u001b[1;31m---------------------------------------------------------------------------\u001b[0m",
      "\u001b[1;31mTypeError\u001b[0m                                 Traceback (most recent call last)",
      "\u001b[1;32m<ipython-input-44-83018356cf55>\u001b[0m in \u001b[0;36m<module>\u001b[1;34m\u001b[0m\n\u001b[0;32m     18\u001b[0m \u001b[0mprint\u001b[0m\u001b[1;33m(\u001b[0m\u001b[0mcust\u001b[0m\u001b[1;33m.\u001b[0m\u001b[0mname\u001b[0m\u001b[1;33m)\u001b[0m\u001b[1;33m\u001b[0m\u001b[1;33m\u001b[0m\u001b[0m\n\u001b[0;32m     19\u001b[0m \u001b[1;33m\u001b[0m\u001b[0m\n\u001b[1;32m---> 20\u001b[1;33m \u001b[0mnew_cust\u001b[0m\u001b[1;33m=\u001b[0m \u001b[0mgreet\u001b[0m\u001b[1;33m(\u001b[0m\u001b[0mcust\u001b[0m\u001b[1;33m)\u001b[0m\u001b[1;33m\u001b[0m\u001b[1;33m\u001b[0m\u001b[0m\n\u001b[0m\u001b[0;32m     21\u001b[0m \u001b[1;33m\u001b[0m\u001b[0m\n\u001b[0;32m     22\u001b[0m \u001b[0mprint\u001b[0m\u001b[1;33m(\u001b[0m\u001b[0mnew_cust\u001b[0m\u001b[1;33m.\u001b[0m\u001b[0mname\u001b[0m\u001b[1;33m)\u001b[0m\u001b[1;33m\u001b[0m\u001b[1;33m\u001b[0m\u001b[0m\n",
      "\u001b[1;32m<ipython-input-44-83018356cf55>\u001b[0m in \u001b[0;36mgreet\u001b[1;34m(customer)\u001b[0m\n\u001b[0;32m     11\u001b[0m         \u001b[0mprint\u001b[0m\u001b[1;33m(\u001b[0m\u001b[1;34m\"Hello\"\u001b[0m \u001b[1;33m,\u001b[0m \u001b[0mcustomer\u001b[0m\u001b[1;33m.\u001b[0m\u001b[0mname\u001b[0m \u001b[1;33m,\u001b[0m \u001b[1;34m\"madam\"\u001b[0m\u001b[1;33m)\u001b[0m\u001b[1;33m\u001b[0m\u001b[1;33m\u001b[0m\u001b[0m\n\u001b[0;32m     12\u001b[0m \u001b[1;33m\u001b[0m\u001b[0m\n\u001b[1;32m---> 13\u001b[1;33m     \u001b[0mcust2\u001b[0m \u001b[1;33m=\u001b[0m \u001b[0mcustomer\u001b[0m\u001b[1;33m(\u001b[0m\u001b[1;34m\"Govind\"\u001b[0m\u001b[1;33m,\u001b[0m \u001b[1;34m\"Male\"\u001b[0m\u001b[1;33m)\u001b[0m\u001b[1;33m\u001b[0m\u001b[1;33m\u001b[0m\u001b[0m\n\u001b[0m\u001b[0;32m     14\u001b[0m \u001b[1;33m\u001b[0m\u001b[0m\n\u001b[0;32m     15\u001b[0m     \u001b[1;32mreturn\u001b[0m \u001b[0mcust2\u001b[0m\u001b[1;33m\u001b[0m\u001b[1;33m\u001b[0m\u001b[0m\n",
      "\u001b[1;31mTypeError\u001b[0m: 'Customer' object is not callable"
     ]
    }
   ],
   "source": [
    "\n",
    "class Customer:\n",
    "    \n",
    "    def __init__(self,name,gender):\n",
    "        self.name = name\n",
    "        self.gender = gender\n",
    "\n",
    "def greet(customer):\n",
    "    if customer.gender == \"Male\":\n",
    "        print(\"Hello\" , customer.name , \"sir\")\n",
    "    else:\n",
    "        print(\"Hello\" , customer.name , \"madam\")\n",
    "        \n",
    "    cust2 = customer(\"Govind\", \"Male\")\n",
    "    \n",
    "    return cust2\n",
    "        \n",
    "cust = Customer(\"aditi\",\"Female\")\n",
    "print(cust.name)\n",
    "\n",
    "new_cust= greet(cust)\n",
    "\n",
    "print(new_cust.name)"
   ]
  },
  {
   "cell_type": "code",
   "execution_count": 45,
   "id": "86210d06",
   "metadata": {},
   "outputs": [
    {
     "name": "stdout",
     "output_type": "stream",
     "text": [
      "2133525167360\n",
      "2133524982912\n",
      "[1, 2, 3, 4, 5, 6]\n",
      "[1, 2, 3, 4, 5]\n"
     ]
    }
   ],
   "source": [
    "def change(L):\n",
    "    print(id(L))\n",
    "    L.append( 6)\n",
    "    print(L)\n",
    "    \n",
    "L1= [1,2,3,4,5]\n",
    "print(id(L1))\n",
    "\n",
    "\n",
    "change(L1[:]) #we have done cloning bcoz its a list and its a imutable\n",
    "\n",
    "print(L1)"
   ]
  },
  {
   "cell_type": "code",
   "execution_count": 46,
   "id": "b0903df0",
   "metadata": {},
   "outputs": [
    {
     "name": "stdout",
     "output_type": "stream",
     "text": [
      "2133524300880\n",
      "2133524300880\n",
      "(1, 2, 3, 4, 5, 6, 7)\n",
      "(1, 2, 3, 4, 5)\n"
     ]
    }
   ],
   "source": [
    "def change(L):\n",
    "    print(id(L))\n",
    "    L = L + (6,7)\n",
    "    print(L)\n",
    "    \n",
    "L1= (1,2,3,4,5)\n",
    "print(id(L1))\n",
    "\n",
    "\n",
    "change(L1) \n",
    "\n",
    "print(L1)"
   ]
  },
  {
   "cell_type": "code",
   "execution_count": 47,
   "id": "e1d5c2cb",
   "metadata": {},
   "outputs": [
    {
     "ename": "TypeError",
     "evalue": "'type' object is not subscriptable",
     "output_type": "error",
     "traceback": [
      "\u001b[1;31m---------------------------------------------------------------------------\u001b[0m",
      "\u001b[1;31mTypeError\u001b[0m                                 Traceback (most recent call last)",
      "\u001b[1;32m<ipython-input-47-0d108915cc80>\u001b[0m in \u001b[0;36m<module>\u001b[1;34m\u001b[0m\n\u001b[0;32m      8\u001b[0m         \u001b[0mprint\u001b[0m\u001b[1;33m(\u001b[0m\u001b[1;34m\"I am \"\u001b[0m\u001b[1;33m,\u001b[0m\u001b[0mslef\u001b[0m\u001b[1;33m.\u001b[0m\u001b[0mname\u001b[0m\u001b[1;33m,\u001b[0m\u001b[1;34m\"and i am\"\u001b[0m\u001b[1;33m,\u001b[0m\u001b[0mself\u001b[0m\u001b[1;33m.\u001b[0m\u001b[0mage\u001b[0m\u001b[1;33m)\u001b[0m\u001b[1;33m\u001b[0m\u001b[1;33m\u001b[0m\u001b[0m\n\u001b[0;32m      9\u001b[0m \u001b[1;33m\u001b[0m\u001b[0m\n\u001b[1;32m---> 10\u001b[1;33m \u001b[0mc1\u001b[0m \u001b[1;33m=\u001b[0m \u001b[0mCustomer\u001b[0m\u001b[1;33m[\u001b[0m\u001b[1;34m\"gogo\"\u001b[0m\u001b[1;33m,\u001b[0m\u001b[1;36m25\u001b[0m\u001b[1;33m]\u001b[0m\u001b[1;33m\u001b[0m\u001b[1;33m\u001b[0m\u001b[0m\n\u001b[0m\u001b[0;32m     11\u001b[0m \u001b[0mc2\u001b[0m \u001b[1;33m=\u001b[0m \u001b[0mCustomer\u001b[0m\u001b[1;33m[\u001b[0m\u001b[1;34m\"aditii\"\u001b[0m\u001b[1;33m,\u001b[0m\u001b[1;36m22\u001b[0m\u001b[1;33m]\u001b[0m\u001b[1;33m\u001b[0m\u001b[1;33m\u001b[0m\u001b[0m\n\u001b[0;32m     12\u001b[0m \u001b[0mc3\u001b[0m \u001b[1;33m=\u001b[0m \u001b[0mCustomer\u001b[0m\u001b[1;33m[\u001b[0m\u001b[1;34m\"kamal\"\u001b[0m\u001b[1;33m,\u001b[0m\u001b[1;36m52\u001b[0m\u001b[1;33m]\u001b[0m\u001b[1;33m\u001b[0m\u001b[1;33m\u001b[0m\u001b[0m\n",
      "\u001b[1;31mTypeError\u001b[0m: 'type' object is not subscriptable"
     ]
    }
   ],
   "source": [
    "class Customer:\n",
    "    \n",
    "    def __init__(self,name,age):\n",
    "        self.name = name\n",
    "        self.age =age\n",
    "        \n",
    "    def intro(self):\n",
    "        print(\"I am \",slef.name,\"and i am\",self.age)\n",
    "        \n",
    "c1 = Customer[\"gogo\",25]\n",
    "c2 = Customer[\"aditii\",22]\n",
    "c3 = Customer[\"kamal\",52]\n",
    "\n",
    "L = [c1,c2,c3]\n",
    "\n",
    "for i in L:\n",
    "    i.intro"
   ]
  },
  {
   "cell_type": "markdown",
   "id": "9b830d0d",
   "metadata": {},
   "source": [
    "# static"
   ]
  },
  {
   "cell_type": "markdown",
   "id": "27c08288",
   "metadata": {},
   "source": [
    "static method isa special method in which we can access without object and gereally it used in static variable"
   ]
  },
  {
   "cell_type": "markdown",
   "id": "709595a3",
   "metadata": {},
   "source": [
    "we alos write out side of constructor"
   ]
  },
  {
   "cell_type": "markdown",
   "id": "5e86889d",
   "metadata": {},
   "source": [
    "# Aggreation (has-A)"
   ]
  },
  {
   "cell_type": "code",
   "execution_count": null,
   "id": "d378b4c3",
   "metadata": {},
   "outputs": [],
   "source": []
  },
  {
   "cell_type": "markdown",
   "id": "9f725b55",
   "metadata": {},
   "source": [
    "# inheritance"
   ]
  },
  {
   "cell_type": "markdown",
   "id": "bef78420",
   "metadata": {},
   "source": [
    "it is a real life real world concept"
   ]
  },
  {
   "cell_type": "code",
   "execution_count": 48,
   "id": "c0f21da9",
   "metadata": {},
   "outputs": [
    {
     "name": "stdout",
     "output_type": "stream",
     "text": [
      "login\n",
      "register\n",
      "enroll\n",
      "review\n"
     ]
    }
   ],
   "source": [
    "class User:\n",
    "    \n",
    "    def login(self):\n",
    "        print(\"login\")\n",
    "        \n",
    "    def register(self):\n",
    "        print(\"register\")\n",
    "        \n",
    "class Student(User):\n",
    "    \n",
    "    def enroll(self):\n",
    "        print(\"enroll\")\n",
    "        \n",
    "    def review(self):\n",
    "        print(\"review\")\n",
    "        \n",
    "        \n",
    "stu1 =Student()\n",
    "\n",
    "stu1.login()\n",
    "stu1.register()\n",
    "stu1.enroll()\n",
    "stu1.review()\n",
    "        "
   ]
  },
  {
   "cell_type": "code",
   "execution_count": 49,
   "id": "4948e12a",
   "metadata": {},
   "outputs": [
    {
     "name": "stdout",
     "output_type": "stream",
     "text": [
      "inside phone constructor\n",
      "Apple\n"
     ]
    }
   ],
   "source": [
    "#inhertance constuctor\n",
    "\n",
    "class Phone:\n",
    "    def __init__(self,price,brand,camera):\n",
    "        print(\"inside phone constructor\")\n",
    "        self.price = price\n",
    "        self.brand = brand\n",
    "        self.camera = camera\n",
    "        \n",
    "class Smartphone(Phone):\n",
    "    pass\n",
    "\n",
    "s = Smartphone(50000,\"Apple\",13)\n",
    "\n",
    "print(s.brand)"
   ]
  },
  {
   "cell_type": "markdown",
   "id": "2eaf5588",
   "metadata": {},
   "source": [
    "# polymorphism"
   ]
  },
  {
   "cell_type": "code",
   "execution_count": 50,
   "id": "66d0f1c7",
   "metadata": {},
   "outputs": [
    {
     "name": "stdout",
     "output_type": "stream",
     "text": [
      "inside phone constructor\n",
      "Buying the Smartphone\n"
     ]
    }
   ],
   "source": [
    "# 1. method Overridding\n",
    "\n",
    "class Phone:\n",
    "    def __init__(self,price,brand,camera):\n",
    "        print(\"inside phone constructor\")\n",
    "        self.price = price\n",
    "        self.brand = brand\n",
    "        self.camera = camera\n",
    "        \n",
    "    def buy(self):\n",
    "        print(\"Buying the Phone\")\n",
    "        \n",
    "class Smartphone(Phone):\n",
    "    \n",
    "    def buy(self):\n",
    "        print(\"Buying the Smartphone\")\n",
    "\n",
    "s = Smartphone(50000,\"Apple\",13)\n",
    "\n",
    "s.buy()   #smartphone buy is called here "
   ]
  },
  {
   "cell_type": "code",
   "execution_count": 51,
   "id": "16909963",
   "metadata": {},
   "outputs": [
    {
     "ename": "NameError",
     "evalue": "name 'return__self' is not defined",
     "output_type": "error",
     "traceback": [
      "\u001b[1;31m---------------------------------------------------------------------------\u001b[0m",
      "\u001b[1;31mNameError\u001b[0m                                 Traceback (most recent call last)",
      "\u001b[1;32m<ipython-input-51-ad13202f9ad6>\u001b[0m in \u001b[0;36m<module>\u001b[1;34m\u001b[0m\n\u001b[0;32m     13\u001b[0m \u001b[1;33m\u001b[0m\u001b[0m\n\u001b[0;32m     14\u001b[0m \u001b[0mson\u001b[0m \u001b[1;33m=\u001b[0m \u001b[0mchild\u001b[0m\u001b[1;33m(\u001b[0m\u001b[1;36m100\u001b[0m\u001b[1;33m)\u001b[0m\u001b[1;33m\u001b[0m\u001b[1;33m\u001b[0m\u001b[0m\n\u001b[1;32m---> 15\u001b[1;33m \u001b[0mprint\u001b[0m\u001b[1;33m(\u001b[0m\u001b[0mson\u001b[0m\u001b[1;33m.\u001b[0m\u001b[0mget__num\u001b[0m\u001b[1;33m(\u001b[0m\u001b[1;33m)\u001b[0m\u001b[1;33m)\u001b[0m\u001b[1;33m\u001b[0m\u001b[1;33m\u001b[0m\u001b[0m\n\u001b[0m\u001b[0;32m     16\u001b[0m \u001b[0mson\u001b[0m\u001b[1;33m.\u001b[0m\u001b[0mshow\u001b[0m\u001b[1;33m(\u001b[0m\u001b[1;33m)\u001b[0m\u001b[1;33m\u001b[0m\u001b[1;33m\u001b[0m\u001b[0m\n",
      "\u001b[1;32m<ipython-input-51-ad13202f9ad6>\u001b[0m in \u001b[0;36mget__num\u001b[1;34m(self)\u001b[0m\n\u001b[0;32m      5\u001b[0m \u001b[1;33m\u001b[0m\u001b[0m\n\u001b[0;32m      6\u001b[0m     \u001b[1;32mdef\u001b[0m \u001b[0mget__num\u001b[0m\u001b[1;33m(\u001b[0m\u001b[0mself\u001b[0m\u001b[1;33m)\u001b[0m\u001b[1;33m:\u001b[0m\u001b[1;33m\u001b[0m\u001b[1;33m\u001b[0m\u001b[0m\n\u001b[1;32m----> 7\u001b[1;33m         \u001b[0mreturn__self\u001b[0m\u001b[1;33m.\u001b[0m\u001b[0mnum\u001b[0m\u001b[1;33m\u001b[0m\u001b[1;33m\u001b[0m\u001b[0m\n\u001b[0m\u001b[0;32m      8\u001b[0m \u001b[1;33m\u001b[0m\u001b[0m\n\u001b[0;32m      9\u001b[0m \u001b[1;32mclass\u001b[0m \u001b[0mchild\u001b[0m\u001b[1;33m(\u001b[0m\u001b[0mParent\u001b[0m\u001b[1;33m)\u001b[0m\u001b[1;33m:\u001b[0m\u001b[1;33m\u001b[0m\u001b[1;33m\u001b[0m\u001b[0m\n",
      "\u001b[1;31mNameError\u001b[0m: name 'return__self' is not defined"
     ]
    }
   ],
   "source": [
    "class Parent:\n",
    "    \n",
    "    def __init__(self,num):\n",
    "        self__num = num\n",
    "        \n",
    "    def get__num(self):\n",
    "        return__self.num\n",
    "    \n",
    "class child(Parent):\n",
    "    \n",
    "    def show(self):\n",
    "        print(\"this is in child class\")\n",
    "        \n",
    "son = child(100)\n",
    "print(son.get__num())\n",
    "son.show() "
   ]
  },
  {
   "cell_type": "code",
   "execution_count": 52,
   "id": "28264454",
   "metadata": {},
   "outputs": [
    {
     "ename": "TypeError",
     "evalue": "__init__() takes 2 positional arguments but 3 were given",
     "output_type": "error",
     "traceback": [
      "\u001b[1;31m---------------------------------------------------------------------------\u001b[0m",
      "\u001b[1;31mTypeError\u001b[0m                                 Traceback (most recent call last)",
      "\u001b[1;32m<ipython-input-52-00d82350a4a8>\u001b[0m in \u001b[0;36m<module>\u001b[1;34m\u001b[0m\n\u001b[0;32m     15\u001b[0m         \u001b[1;32mreturn\u001b[0m \u001b[0mself__val\u001b[0m\u001b[1;33m\u001b[0m\u001b[1;33m\u001b[0m\u001b[0m\n\u001b[0;32m     16\u001b[0m \u001b[1;33m\u001b[0m\u001b[0m\n\u001b[1;32m---> 17\u001b[1;33m \u001b[0mson\u001b[0m \u001b[1;33m=\u001b[0m \u001b[0mchild\u001b[0m\u001b[1;33m(\u001b[0m\u001b[1;36m100\u001b[0m\u001b[1;33m,\u001b[0m\u001b[1;36m10\u001b[0m\u001b[1;33m)\u001b[0m\u001b[1;33m\u001b[0m\u001b[1;33m\u001b[0m\u001b[0m\n\u001b[0m\u001b[0;32m     18\u001b[0m \u001b[0mprint\u001b[0m\u001b[1;33m(\u001b[0m\u001b[1;34m\"Parent:Num\"\u001b[0m\u001b[1;33m,\u001b[0m\u001b[0mson\u001b[0m\u001b[1;33m.\u001b[0m\u001b[0mget_num\u001b[0m\u001b[1;33m(\u001b[0m\u001b[1;33m)\u001b[0m\u001b[1;33m)\u001b[0m\u001b[1;33m\u001b[0m\u001b[1;33m\u001b[0m\u001b[0m\n\u001b[0;32m     19\u001b[0m \u001b[0mprint\u001b[0m\u001b[1;33m(\u001b[0m\u001b[1;34m\"Child:val\"\u001b[0m\u001b[1;33m,\u001b[0m\u001b[0mson\u001b[0m\u001b[1;33m.\u001b[0m\u001b[0mget_val\u001b[0m\u001b[1;33m(\u001b[0m\u001b[1;33m)\u001b[0m\u001b[1;33m)\u001b[0m\u001b[1;33m\u001b[0m\u001b[1;33m\u001b[0m\u001b[0m\n",
      "\u001b[1;31mTypeError\u001b[0m: __init__() takes 2 positional arguments but 3 were given"
     ]
    }
   ],
   "source": [
    "class Parent:\n",
    "    \n",
    "    def __init__(self,num):\n",
    "        self__num = num\n",
    "        \n",
    "    def get_num(self):\n",
    "        return__self.num\n",
    "        \n",
    "class Child(Parent):\n",
    "    \n",
    "    def __init__(self,val,num):\n",
    "        self__val = val\n",
    "        \n",
    "    def get_val(self):\n",
    "        return self__val\n",
    "    \n",
    "son = child(100,10)\n",
    "print(\"Parent:Num\",son.get_num())\n",
    "print(\"Child:val\",son.get_val())        \n",
    "        \n",
    "    \n",
    "#in this if child have own constructor then parent constructor would not be use (thats why the error will come)"
   ]
  },
  {
   "cell_type": "code",
   "execution_count": 53,
   "id": "2f29b0af",
   "metadata": {},
   "outputs": [
    {
     "ename": "SyntaxError",
     "evalue": "invalid syntax (<ipython-input-53-015359ecb673>, line 3)",
     "output_type": "error",
     "traceback": [
      "\u001b[1;36m  File \u001b[1;32m\"<ipython-input-53-015359ecb673>\"\u001b[1;36m, line \u001b[1;32m3\u001b[0m\n\u001b[1;33m    def__init__(self):\u001b[0m\n\u001b[1;37m                      ^\u001b[0m\n\u001b[1;31mSyntaxError\u001b[0m\u001b[1;31m:\u001b[0m invalid syntax\n"
     ]
    }
   ],
   "source": [
    "class A:\n",
    "    \n",
    "    def__init__(self):\n",
    "        self.var1 = 100\n",
    "        \n",
    "    def display1(self,var1):\n",
    "        print(\"Class A:\", self.var1)\n",
    "        \n",
    "        \n",
    "class B(A):\n",
    "    \n",
    "    def display2(self,var1):\n",
    "        print(\"Class B:\", self.var1)\n",
    "        \n",
    "obj = B()\n",
    "obj.display1(200)\n",
    "\n",
    "#the output will be 100"
   ]
  },
  {
   "cell_type": "markdown",
   "id": "722c1fae",
   "metadata": {},
   "source": [
    "# Super keyword"
   ]
  },
  {
   "cell_type": "code",
   "execution_count": 56,
   "id": "2077bc4b",
   "metadata": {},
   "outputs": [
    {
     "name": "stdout",
     "output_type": "stream",
     "text": [
      "inside phone constructor\n",
      "Buying the Smartphone\n",
      "Buying the Phone\n"
     ]
    }
   ],
   "source": [
    "class Phone:\n",
    "    def __init__(self,price,brand,camera):\n",
    "        print(\"inside phone constructor\")\n",
    "        self.price = price\n",
    "        self.brand = brand\n",
    "        self.camera = camera\n",
    "        \n",
    "    def buy(self):\n",
    "        print(\"Buying the Phone\")\n",
    "        \n",
    "        \n",
    "class Smartphone(Phone):\n",
    "    \n",
    "    def buy(self):\n",
    "        print(\"Buying the Smartphone\")\n",
    "        super().buy()\n",
    "        \n",
    "s=Smartphone(1000,\"Apple\",13)\n",
    "\n",
    "s.buy()\n",
    "\n",
    "#super keyword can access parent buy also in this(you can acess only method and constructor but no attribute)"
   ]
  },
  {
   "cell_type": "code",
   "execution_count": 59,
   "id": "c2b5c24b",
   "metadata": {},
   "outputs": [
    {
     "ename": "SyntaxError",
     "evalue": "invalid syntax (<ipython-input-59-eb7a0ddd5a05>, line 18)",
     "output_type": "error",
     "traceback": [
      "\u001b[1;36m  File \u001b[1;32m\"<ipython-input-59-eb7a0ddd5a05>\"\u001b[1;36m, line \u001b[1;32m18\u001b[0m\n\u001b[1;33m    super()__init__(price,brand,camera)\u001b[0m\n\u001b[1;37m           ^\u001b[0m\n\u001b[1;31mSyntaxError\u001b[0m\u001b[1;31m:\u001b[0m invalid syntax\n"
     ]
    }
   ],
   "source": [
    "class Phone:\n",
    "    def __init__(self,price,brand,camera):\n",
    "        print(\"inside phone constructor fir idhar 2\")\n",
    "        self.price = price\n",
    "        self.brand = brand\n",
    "        self.camera = camera\n",
    "        \n",
    "    def buy(self):\n",
    "        print(\"Buying the Phone\")\n",
    "        \n",
    "        \n",
    "class Smartphone(Phone):\n",
    "    \n",
    "    def __init__(self,price,brand,camera,os,ram):\n",
    "        print(\"phele idhar 1\")\n",
    "        print(\"inside phone constructor\")\n",
    "        \n",
    "        super()__init__(price,brand,camera)\n",
    "        self.os = os\n",
    "        self.ram = ram\n",
    "        print(\"inside the smartphon constructor 3\")\n",
    "        \n",
    "s =Smartphone(2000,\"apple\",13,\"IOS\",14)\n",
    "\n",
    "print(s.os)\n",
    "print(s.ram)\n",
    "\n",
    "#in this smartphone have already have constructor so the value goes to smartphone but super function used so the price , brand , carmera is called baki sab os and ram"
   ]
  },
  {
   "cell_type": "markdown",
   "id": "18646789",
   "metadata": {},
   "source": [
    "# inheritance (4 types)"
   ]
  },
  {
   "cell_type": "markdown",
   "id": "532a88ec",
   "metadata": {},
   "source": [
    "# 1 . Sinle Level inheritance"
   ]
  },
  {
   "cell_type": "code",
   "execution_count": 60,
   "id": "dca5245a",
   "metadata": {},
   "outputs": [
    {
     "name": "stdout",
     "output_type": "stream",
     "text": [
      "login\n",
      "register\n",
      "enroll\n",
      "review\n"
     ]
    }
   ],
   "source": [
    "class User:\n",
    "    \n",
    "    def login(self):\n",
    "        print(\"login\")\n",
    "        \n",
    "    def register(self):\n",
    "        print(\"register\")\n",
    "        \n",
    "class Student(User):\n",
    "    \n",
    "    def enroll(self):\n",
    "        print(\"enroll\")\n",
    "        \n",
    "    def review(self):\n",
    "        print(\"review\")\n",
    "        \n",
    "        \n",
    "stu1 =Student()\n",
    "\n",
    "stu1.login()\n",
    "stu1.register()\n",
    "stu1.enroll()\n",
    "stu1.review()\n",
    "        "
   ]
  },
  {
   "cell_type": "markdown",
   "id": "64107257",
   "metadata": {},
   "source": [
    "# 2 . Multi-level inheritance"
   ]
  },
  {
   "cell_type": "code",
   "execution_count": 61,
   "id": "8d196d39",
   "metadata": {},
   "outputs": [
    {
     "name": "stdout",
     "output_type": "stream",
     "text": [
      "inside phone constructor fir idhar 2\n",
      "inside phone constructor fir idhar 2\n",
      "Buying the Phone\n",
      "customer review\n",
      "customer review\n"
     ]
    }
   ],
   "source": [
    "class Product:\n",
    "    def review(self):\n",
    "        print(\"customer review\")\n",
    "\n",
    "\n",
    "class Phone(Product):\n",
    "    def __init__(self,price,brand,camera):\n",
    "        print(\"inside phone constructor fir idhar 2\")\n",
    "        self.price = price\n",
    "        self.brand = brand\n",
    "        self.camera = camera\n",
    "        \n",
    "    def buy(self):\n",
    "        print(\"Buying the Phone\")\n",
    "        \n",
    "        \n",
    "class Smartphone(Phone):\n",
    "    pass\n",
    "\n",
    "s = Smartphone(5000,\"Apple\",14)\n",
    "p = Phone(1000,\"Samsung\",1)\n",
    "\n",
    "s.buy()\n",
    "s.review()\n",
    "p.review()"
   ]
  },
  {
   "cell_type": "markdown",
   "id": "306427b0",
   "metadata": {},
   "source": [
    "# 3 . hireical "
   ]
  },
  {
   "cell_type": "code",
   "execution_count": 63,
   "id": "b7c0e3bf",
   "metadata": {},
   "outputs": [
    {
     "name": "stdout",
     "output_type": "stream",
     "text": [
      "inside phone constructor fir idhar 1\n"
     ]
    }
   ],
   "source": [
    "class Phone:\n",
    "    def __init__(self,price,brand,camera):\n",
    "        print(\"inside phone constructor fir idhar 1\")\n",
    "        self.price = price\n",
    "        self.brand = brand\n",
    "        self.camera = camera\n",
    "        \n",
    "    def buy(self):\n",
    "        print(\"Buying the Phone\")\n",
    "        \n",
    "    def return_phone(self):\n",
    "        print(\"Returing the phone\")\n",
    "        \n",
    "class Smartphone(Phone):\n",
    "    pass\n",
    "class futhurephone(Phone):\n",
    "    pass \n",
    "\n",
    "s = Smartphone(1000,\"Apple\",14)"
   ]
  },
  {
   "cell_type": "markdown",
   "id": "7498946f",
   "metadata": {},
   "source": [
    "# 3. Multiple inheritance"
   ]
  },
  {
   "cell_type": "code",
   "execution_count": 64,
   "id": "94a938cf",
   "metadata": {},
   "outputs": [
    {
     "name": "stdout",
     "output_type": "stream",
     "text": [
      "inside phone constructor fir idhar 1\n",
      "Buying the Phone\n",
      "customer review\n"
     ]
    }
   ],
   "source": [
    "class Phone:\n",
    "    def __init__(self,price,brand,camera):\n",
    "        print(\"inside phone constructor fir idhar 1\")\n",
    "        self.price = price\n",
    "        self.brand = brand\n",
    "        self.camera = camera\n",
    "        \n",
    "    def buy(self):\n",
    "        print(\"Buying the Phone\")\n",
    "        \n",
    "class Product:\n",
    "    def review(self):\n",
    "        print(\"customer review\")\n",
    "        \n",
    "class Smartphone(Phone, Product):\n",
    "    pass\n",
    "\n",
    "s = Smartphone(1000,\"Apple\",14)\n",
    "\n",
    "\n",
    "s.buy()\n",
    "s.review()\n"
   ]
  },
  {
   "cell_type": "markdown",
   "id": "d5eaa42d",
   "metadata": {},
   "source": [
    "# Method Overloding"
   ]
  },
  {
   "cell_type": "code",
   "execution_count": 67,
   "id": "d4fe51c8",
   "metadata": {},
   "outputs": [
    {
     "ename": "NameError",
     "evalue": "name 'Geomerty' is not defined",
     "output_type": "error",
     "traceback": [
      "\u001b[1;31m---------------------------------------------------------------------------\u001b[0m",
      "\u001b[1;31mNameError\u001b[0m                                 Traceback (most recent call last)",
      "\u001b[1;32m<ipython-input-67-a7b2db615cb8>\u001b[0m in \u001b[0;36m<module>\u001b[1;34m\u001b[0m\n\u001b[0;32m      9\u001b[0m         \u001b[1;32mreturn\u001b[0m \u001b[0ml\u001b[0m\u001b[1;33m*\u001b[0m\u001b[0mb\u001b[0m\u001b[1;33m\u001b[0m\u001b[1;33m\u001b[0m\u001b[0m\n\u001b[0;32m     10\u001b[0m \u001b[1;33m\u001b[0m\u001b[0m\n\u001b[1;32m---> 11\u001b[1;33m \u001b[0mobj\u001b[0m \u001b[1;33m=\u001b[0m \u001b[0mGeomerty\u001b[0m\u001b[1;33m(\u001b[0m\u001b[1;33m)\u001b[0m\u001b[1;33m\u001b[0m\u001b[1;33m\u001b[0m\u001b[0m\n\u001b[0m\u001b[0;32m     12\u001b[0m \u001b[0mprint\u001b[0m\u001b[1;33m(\u001b[0m\u001b[0mobj\u001b[0m\u001b[1;33m.\u001b[0m\u001b[0marea\u001b[0m\u001b[1;33m(\u001b[0m\u001b[1;36m4\u001b[0m\u001b[1;33m)\u001b[0m\u001b[1;33m)\u001b[0m\u001b[1;33m\u001b[0m\u001b[1;33m\u001b[0m\u001b[0m\n\u001b[0;32m     13\u001b[0m \u001b[1;33m\u001b[0m\u001b[0m\n",
      "\u001b[1;31mNameError\u001b[0m: name 'Geomerty' is not defined"
     ]
    }
   ],
   "source": [
    "#polymorphism\n",
    "\n",
    "class Geometry:\n",
    "    \n",
    "    def area(self,raidus):\n",
    "        return 3.14 * radius *radius\n",
    "    \n",
    "    def area(self,l,b):\n",
    "        return l*b\n",
    "    \n",
    "obj = Geomerty()\n",
    "print(obj.area(4))\n",
    "\n",
    "#it can worked like this you have to use brain \n",
    "\n"
   ]
  },
  {
   "cell_type": "code",
   "execution_count": 75,
   "id": "3ea44d6d",
   "metadata": {},
   "outputs": [
    {
     "ename": "NameError",
     "evalue": "name 'obj' is not defined",
     "output_type": "error",
     "traceback": [
      "\u001b[1;31m---------------------------------------------------------------------------\u001b[0m",
      "\u001b[1;31mNameError\u001b[0m                                 Traceback (most recent call last)",
      "\u001b[1;32m<ipython-input-75-f6895051361e>\u001b[0m in \u001b[0;36m<module>\u001b[1;34m\u001b[0m\n\u001b[0;32m      8\u001b[0m \u001b[1;33m\u001b[0m\u001b[0m\n\u001b[0;32m      9\u001b[0m \u001b[1;33m\u001b[0m\u001b[0m\n\u001b[1;32m---> 10\u001b[1;33m \u001b[0mobj\u001b[0m\u001b[1;33m.\u001b[0m\u001b[0marea\u001b[0m\u001b[1;33m(\u001b[0m\u001b[1;36m4\u001b[0m\u001b[1;33m)\u001b[0m\u001b[1;33m\u001b[0m\u001b[1;33m\u001b[0m\u001b[0m\n\u001b[0m\u001b[0;32m     11\u001b[0m \u001b[0mobj\u001b[0m\u001b[1;33m.\u001b[0m\u001b[0marea\u001b[0m\u001b[1;33m(\u001b[0m\u001b[1;36m4\u001b[0m\u001b[1;33m,\u001b[0m\u001b[1;36m5\u001b[0m\u001b[1;33m)\u001b[0m\u001b[1;33m\u001b[0m\u001b[1;33m\u001b[0m\u001b[0m\n",
      "\u001b[1;31mNameError\u001b[0m: name 'obj' is not defined"
     ]
    }
   ],
   "source": [
    "class Geometry:\n",
    "    \n",
    "    def area(self,a,b):\n",
    "        if b == 0:\n",
    "            print(\"circle\" , 3.14*a*a)\n",
    "        else:\n",
    "            print(\"Rect\" , a*b)\n",
    "            \n",
    "\n"
   ]
  },
  {
   "cell_type": "markdown",
   "id": "677a0c2f",
   "metadata": {},
   "source": [
    "# 3. Opertaor Overloading"
   ]
  },
  {
   "cell_type": "code",
   "execution_count": null,
   "id": "52100617",
   "metadata": {},
   "outputs": [],
   "source": []
  },
  {
   "cell_type": "code",
   "execution_count": null,
   "id": "1e286e52",
   "metadata": {},
   "outputs": [],
   "source": []
  }
 ],
 "metadata": {
  "kernelspec": {
   "display_name": "Python 3",
   "language": "python",
   "name": "python3"
  },
  "language_info": {
   "codemirror_mode": {
    "name": "ipython",
    "version": 3
   },
   "file_extension": ".py",
   "mimetype": "text/x-python",
   "name": "python",
   "nbconvert_exporter": "python",
   "pygments_lexer": "ipython3",
   "version": "3.8.8"
  }
 },
 "nbformat": 4,
 "nbformat_minor": 5
}
